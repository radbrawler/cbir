{
 "cells": [
  {
   "cell_type": "code",
   "execution_count": 2,
   "metadata": {},
   "outputs": [
    {
     "name": "stdout",
     "output_type": "stream",
     "text": [
      "the shape of train_image: (42000, 784), train_label: (42000,)\n",
      "the shape of test_image: (28000, 784)\n",
      "(33600, 784)\n",
      "(8400, 784)\n"
     ]
    }
   ],
   "source": [
    "import pandas as pd\n",
    "import numpy as np\n",
    "from sklearn import svm\n",
    "from sklearn.model_selection import train_test_split\n",
    "from sklearn.decomposition import PCA\n",
    "import time\n",
    "\n",
    "train = pd.read_csv('train.csv')\n",
    "test = pd.read_csv('test.csv')\n",
    "\n",
    "train_image = train.ix[:,1:]\n",
    "train_label = train.ix[:,0]\n",
    "\n",
    "train_image = train_image.values / 255.0\n",
    "test_image = test.values / 255.0\n",
    "\n",
    "train_label = train_label.values\n",
    "\n",
    "print('the shape of train_image: {}, train_label: {}'.format(train_image.shape, train_label.shape))\n",
    "print('the shape of test_image: {}'.format(test_image.shape))\n",
    "\n",
    "X_train, X_val, y_train, y_val = train_test_split(train_image,train_label, train_size = 0.8,random_state = 0)\n",
    "\n",
    "print(X_train.shape)\n",
    "print(X_val.shape)\n",
    "\n",
    "# \n",
    "def n_component_analysis(n, X_train, y_train, X_val, y_val):\n",
    "    start = time.time()\n",
    "    pca = PCA(n_components=n)\n",
    "    print(\"PCA begin with n_components: {}\".format(n));\n",
    "    pca.fit(X_train)\n",
    "    \n",
    "    X_train_pca = pca.transform(X_train)\n",
    "    X_val_pca = pca.transform(X_val)\n",
    "   \n",
    "    print('SVC begin')\n",
    "    clf1 = svm.SVC()\n",
    "    clf1.fit(X_train_pca, y_train)\n",
    "   \n",
    "    accuracy = clf1.score(X_val_pca, y_val)\n",
    "    end = time.time()\n",
    "    print(\"accuracy: {}, time elaps:{}\".format(accuracy, int(end-start)))\n",
    "    return accuracy\n",
    "\n",
    "\n"
   ]
  },
  {
   "cell_type": "code",
   "execution_count": 3,
   "metadata": {},
   "outputs": [
    {
     "name": "stdout",
     "output_type": "stream",
     "text": [
      "PCA begin with n_components: 0.7\n",
      "SVC begin\n",
      "accuracy: 0.97869047619, time elaps:103\n",
      "PCA begin with n_components: 0.710714285714\n",
      "SVC begin\n",
      "accuracy: 0.979166666667, time elaps:106\n",
      "PCA begin with n_components: 0.721428571429\n",
      "SVC begin\n",
      "accuracy: 0.979404761905, time elaps:105\n",
      "PCA begin with n_components: 0.732142857143\n",
      "SVC begin\n",
      "accuracy: 0.979404761905, time elaps:102\n",
      "PCA begin with n_components: 0.742857142857\n",
      "SVC begin\n",
      "accuracy: 0.980119047619, time elaps:104\n",
      "PCA begin with n_components: 0.753571428571\n",
      "SVC begin\n",
      "accuracy: 0.979761904762, time elaps:101\n",
      "PCA begin with n_components: 0.764285714286\n",
      "SVC begin\n",
      "accuracy: 0.979880952381, time elaps:99\n",
      "PCA begin with n_components: 0.775\n",
      "SVC begin\n",
      "accuracy: 0.979166666667, time elaps:103\n",
      "PCA begin with n_components: 0.785714285714\n",
      "SVC begin\n",
      "accuracy: 0.97880952381, time elaps:103\n",
      "PCA begin with n_components: 0.796428571429\n",
      "SVC begin\n",
      "accuracy: 0.979047619048, time elaps:102\n",
      "PCA begin with n_components: 0.807142857143\n",
      "SVC begin\n",
      "accuracy: 0.979166666667, time elaps:104\n",
      "PCA begin with n_components: 0.817857142857\n",
      "SVC begin\n",
      "accuracy: 0.978928571429, time elaps:103\n",
      "PCA begin with n_components: 0.828571428571\n",
      "SVC begin\n",
      "accuracy: 0.97880952381, time elaps:106\n",
      "PCA begin with n_components: 0.839285714286\n",
      "SVC begin\n",
      "accuracy: 0.97880952381, time elaps:107\n",
      "PCA begin with n_components: 0.85\n",
      "SVC begin\n",
      "accuracy: 0.978095238095, time elaps:109\n"
     ]
    }
   ],
   "source": [
    "n_s = np.linspace(0.70, 0.85, num=15)\n",
    "accuracy = []\n",
    "for n in n_s:\n",
    "    tmp = n_component_analysis(n, X_train, y_train, X_val, y_val)\n",
    "    accuracy.append(tmp)\n"
   ]
  },
  {
   "cell_type": "code",
   "execution_count": 4,
   "metadata": {},
   "outputs": [
    {
     "data": {
      "text/plain": [
       "[<matplotlib.lines.Line2D at 0x7f31d1fe3ad0>]"
      ]
     },
     "execution_count": 4,
     "metadata": {},
     "output_type": "execute_result"
    },
    {
     "data": {
      "image/png": "[encoded data removed]",
      "text/plain": [
       "<matplotlib.figure.Figure at 0x7f3200d0f050>"
      ]
     },
     "metadata": {},
     "output_type": "display_data"
    }
   ],
   "source": [
    "import matplotlib.pyplot as plt\n",
    "%matplotlib inline\n",
    "plt.plot(n_s, np.array(accuracy), 'b-')\n",
    "\n"
   ]
  },
  {
   "cell_type": "code",
   "execution_count": 5,
   "metadata": {},
   "outputs": [
    {
     "data": {
      "text/plain": [
       "[<matplotlib.lines.Line2D at 0x7f31d1ecc290>]"
      ]
     },
     "execution_count": 5,
     "metadata": {},
     "output_type": "execute_result"
    },
    {
     "data": {
      "image/png": "[encoded data removed]",
      "text/plain": [
       "<matplotlib.figure.Figure at 0x7f31ffe65990>"
      ]
     },
     "metadata": {},
     "output_type": "display_data"
    }
   ],
   "source": [
    "import matplotlib.pyplot as plt\n",
    "%matplotlib inline\n",
    "plt.plot(n_s, np.array(accuracy), 'b-')\n"
   ]
  },
  {
   "cell_type": "code",
   "execution_count": 6,
   "metadata": {},
   "outputs": [
    {
     "data": {
      "text/plain": [
       "PCA(copy=True, iterated_power='auto', n_components=0.75, random_state=None,\n",
       "  svd_solver='auto', tol=0.0, whiten=False)"
      ]
     },
     "execution_count": 6,
     "metadata": {},
     "output_type": "execute_result"
    }
   ],
   "source": [
    "pca = PCA(n_components=0.75)\n",
    "pca.fit(X_train)"
   ]
  },
  {
   "cell_type": "code",
   "execution_count": 7,
   "metadata": {},
   "outputs": [
    {
     "data": {
      "text/plain": [
       "33"
      ]
     },
     "execution_count": 7,
     "metadata": {},
     "output_type": "execute_result"
    }
   ],
   "source": [
    "pca.n_components_\n"
   ]
  },
  {
   "cell_type": "code",
   "execution_count": 8,
   "metadata": {},
   "outputs": [
    {
     "data": {
      "text/plain": [
       "array([ 0.09745105,  0.0711566 ,  0.06179298,  0.05376763,  0.04894433,\n",
       "        0.04284305,  0.03270905,  0.02892718,  0.02767062,  0.0235005 ,\n",
       "        0.02104833,  0.02067582,  0.01716195,  0.01699172,  0.01584733,\n",
       "        0.01478364,  0.01319522,  0.01283561,  0.01185388,  0.01148943,\n",
       "        0.01070532,  0.0101494 ,  0.00962151,  0.00915834,  0.00887752,\n",
       "        0.00835993,  0.00811404,  0.0077903 ,  0.00742567,  0.00685994,\n",
       "        0.00661976,  0.00637225,  0.00602515])"
      ]
     },
     "execution_count": 8,
     "metadata": {},
     "output_type": "execute_result"
    }
   ],
   "source": [
    "pca.explained_variance_ratio_\n"
   ]
  },
  {
   "cell_type": "code",
   "execution_count": 9,
   "metadata": {
    "collapsed": true
   },
   "outputs": [],
   "source": [
    "X_train_pca = pca.transform(X_train)\n",
    "X_val_pca = pca.transform(X_val)"
   ]
  },
  {
   "cell_type": "code",
   "execution_count": 10,
   "metadata": {},
   "outputs": [
    {
     "name": "stdout",
     "output_type": "stream",
     "text": [
      "(33600, 33)\n",
      "(8400, 33)\n"
     ]
    }
   ],
   "source": [
    "print(X_train_pca.shape)\n",
    "print(X_val_pca.shape)\n"
   ]
  },
  {
   "cell_type": "code",
   "execution_count": 11,
   "metadata": {},
   "outputs": [
    {
     "data": {
      "text/plain": [
       "0.97964285714285715"
      ]
     },
     "execution_count": 11,
     "metadata": {},
     "output_type": "execute_result"
    }
   ],
   "source": [
    "clf1 = svm.SVC()\n",
    "clf1.fit(X_train_pca, y_train)\n",
    "clf1.score(X_val_pca, y_val)"
   ]
  },
  {
   "cell_type": "code",
   "execution_count": null,
   "metadata": {
    "collapsed": true
   },
   "outputs": [],
   "source": []
  }
 ],
 "metadata": {
  "kernelspec": {
   "display_name": "Python 2",
   "language": "python",
   "name": "python2"
  },
  "language_info": {
   "codemirror_mode": {
    "name": "ipython",
    "version": 2
   },
   "file_extension": ".py",
   "mimetype": "text/x-python",
   "name": "python",
   "nbconvert_exporter": "python",
   "pygments_lexer": "ipython2",
   "version": "2.7.12"
  }
 },
 "nbformat": 4,
 "nbformat_minor": 2
}
