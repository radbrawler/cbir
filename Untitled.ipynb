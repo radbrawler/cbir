{
 "cells": [
  {
   "cell_type": "code",
   "execution_count": 1,
   "metadata": {
    "collapsed": true
   },
   "outputs": [],
   "source": [
    "import pandas as pd\n",
    "import numpy as np\n",
    "from sklearn import svm\n",
    "from sklearn.model_selection import train_test_split\n",
    "from sklearn.decomposition import PCA\n",
    "import time\n"
   ]
  },
  {
   "cell_type": "code",
   "execution_count": 3,
   "metadata": {},
   "outputs": [],
   "source": [
    "train = pd.read_csv('train.csv')\n",
    "test = pd.read_csv('test.csv')\n",
    "\n",
    "train_image = train.ix[:,1:]\n",
    "train_label = train.ix[:,0]"
   ]
  },
  {
   "cell_type": "code",
   "execution_count": 4,
   "metadata": {
    "collapsed": true
   },
   "outputs": [],
   "source": [
    "train_image = train_image.values / 255.0\n",
    "test_image = test.values / 255.0\n"
   ]
  },
  {
   "cell_type": "code",
   "execution_count": 5,
   "metadata": {
    "collapsed": true
   },
   "outputs": [],
   "source": [
    "train_label = train_label.values"
   ]
  },
  {
   "cell_type": "code",
   "execution_count": 6,
   "metadata": {},
   "outputs": [
    {
     "name": "stdout",
     "output_type": "stream",
     "text": [
      "the shape of train_image: (42000, 784), train_label: (42000,)\n",
      "the shape of test_image: (28000, 784)\n"
     ]
    }
   ],
   "source": [
    "print('the shape of train_image: {}, train_label: {}'.format(train_image.shape, train_label.shape))\n",
    "print('the shape of test_image: {}'.format(test_image.shape))\n"
   ]
  },
  {
   "cell_type": "code",
   "execution_count": 7,
   "metadata": {
    "collapsed": true
   },
   "outputs": [],
   "source": [
    "X_train, X_val, y_train, y_val = train_test_split(train_image,train_label, train_size = 0.8,random_state = 0)\n"
   ]
  },
  {
   "cell_type": "code",
   "execution_count": 8,
   "metadata": {},
   "outputs": [
    {
     "name": "stdout",
     "output_type": "stream",
     "text": [
      "(33600, 784)\n",
      "(8400, 784)\n"
     ]
    }
   ],
   "source": [
    "print(X_train.shape)\n",
    "print(X_val.shape)"
   ]
  },
  {
   "cell_type": "code",
   "execution_count": 9,
   "metadata": {
    "collapsed": true
   },
   "outputs": [],
   "source": [
    "# \n",
    "def n_component_analysis(n, X_train, y_train, X_val, y_val):\n",
    "    start = time.time()\n",
    "    pca = PCA(n_components=n)\n",
    "    print(\"PCA begin with n_components: {}\".format(n));\n",
    "    pca.fit(X_train)\n",
    "    # 在训练集和测试集降维 \n",
    "    X_train_pca = pca.transform(X_train)\n",
    "    X_val_pca = pca.transform(X_val)\n",
    "    # 利用SVC训练\n",
    "    print('SVC begin')\n",
    "    clf1 = svm.SVC()\n",
    "    clf1.fit(X_train_pca, y_train)\n",
    "    # 返回accuracy\n",
    "    accuracy = clf1.score(X_val_pca, y_val)\n",
    "    end = time.time()\n",
    "    print(\"accuracy: {}, time elaps:{}\".format(accuracy, int(end-start)))\n",
    "    return accuracy"
   ]
  },
  {
   "cell_type": "code",
   "execution_count": null,
   "metadata": {},
   "outputs": [],
   "source": [
    "n_s = np.linspace(0.70, 0.85, num=15)\n",
    "accuracy = []\n",
    "for n in n_s:\n",
    "    tmp = n_component_analysis(n, X_train, y_train, X_val, y_val)\n",
    "    accuracy.append(tmp)"
   ]
  },
  {
   "cell_type": "code",
   "execution_count": null,
   "metadata": {
    "collapsed": true
   },
   "outputs": [],
   "source": []
  }
 ],
 "metadata": {
  "kernelspec": {
   "display_name": "Python 2",
   "language": "python",
   "name": "python2"
  },
  "language_info": {
   "codemirror_mode": {
    "name": "ipython",
    "version": 2
   },
   "file_extension": ".py",
   "mimetype": "text/x-python",
   "name": "python",
   "nbconvert_exporter": "python",
   "pygments_lexer": "ipython2",
   "version": "2.7.12"
  }
 },
 "nbformat": 4,
 "nbformat_minor": 2
}
