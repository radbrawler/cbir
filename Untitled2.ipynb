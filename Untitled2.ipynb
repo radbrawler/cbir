{
 "cells": [
  {
   "cell_type": "code",
   "execution_count": 3,
   "metadata": {},
   "outputs": [
    {
     "name": "stdout",
     "output_type": "stream",
     "text": [
      "{'mu02': 644700.9491869918, 'mu03': 24748096.326591313, 'm11': 1241183.1666666665, 'nu02': 42.61358643578504, 'm12': 183400267.63333333, 'mu21': 12906267.076877765, 'mu20': 406719.26806684723, 'nu20': 26.88342045520836, 'm30': 321437970.15000004, 'nu21': 76.91975094275026, 'mu11': -28481.502032520482, 'mu12': 174209.60044397414, 'nu11': -1.8825766430379065, 'nu12': 1.0382676104691488, 'm02': 1648846.3333333333, 'm03': 290229573.75, 'm00': 123.0, 'm01': 11113.5, 'mu30': -1367854.459358871, 'nu30': -8.152242915251051, 'nu03': 147.49558446369235, 'm10': 14052.166666666666, 'm20': 2012112.6666666665, 'm21': 188200254.83333334}\n"
     ]
    }
   ],
   "source": [
    "import cv2\n",
    "\n",
    "\n",
    "import numpy as np\n",
    "\n",
    "img = cv2.imread('test.png',0)\n",
    "ret,thresh = cv2.threshold(img,127,255,0)\n",
    "contours,hierarchy = cv2.findContours(thresh, 1, 2)\n",
    "\n",
    "cnt = contours[0]\n",
    "M = cv2.moments(cnt)\n",
    "print M\n"
   ]
  },
  {
   "cell_type": "code",
   "execution_count": null,
   "metadata": {},
   "outputs": [],
   "source": []
  }
 ],
 "metadata": {
  "kernelspec": {
   "display_name": "Python 2",
   "language": "python",
   "name": "python2"
  },
  "language_info": {
   "codemirror_mode": {
    "name": "ipython",
    "version": 2
   },
   "file_extension": ".py",
   "mimetype": "text/x-python",
   "name": "python",
   "nbconvert_exporter": "python",
   "pygments_lexer": "ipython2",
   "version": "2.7.12"
  }
 },
 "nbformat": 4,
 "nbformat_minor": 2
}
