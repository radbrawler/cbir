{
 "cells": [
  {
   "cell_type": "code",
   "execution_count": 8,
   "metadata": {
    "collapsed": true
   },
   "outputs": [],
   "source": [
    "import glob\n",
    "import cv2\n",
    "import numpy as np\n",
    "import os"
   ]
  },
  {
   "cell_type": "code",
   "execution_count": 23,
   "metadata": {},
   "outputs": [],
   "source": [
    "SIGMA = 0.33\n",
    "images = glob.glob(\"./original1/*.png\")"
   ]
  },
  {
   "cell_type": "code",
   "execution_count": 10,
   "metadata": {},
   "outputs": [],
   "source": [
    "for index, f in enumerate(images):\n",
    "#     print (f)\n",
    "    image = cv2.imread(f)\n",
    "#     print (type(image))\n",
    "    v = np.median(image)\n",
    "    low = int (max(0, (1-SIGMA)*v))\n",
    "    high = int (min(1, (1+SIGMA)*v))\n",
    "    edged = cv2.Canny(image, low, high)\n",
    "    cv2.imwrite(\"original_canny/\"+os.path.splitext(os.path.basename(f))[0]+\".png\", edged)"
   ]
  },
  {
   "cell_type": "code",
   "execution_count": 24,
   "metadata": {
    "scrolled": true
   },
   "outputs": [
    {
     "ename": "AttributeError",
     "evalue": "'module' object has no attribute 'SIFT'",
     "output_type": "error",
     "traceback": [
      "\u001b[0;31m---------------------------------------------------------------------------\u001b[0m",
      "\u001b[0;31mAttributeError\u001b[0m                            Traceback (most recent call last)",
      "\u001b[0;32m<ipython-input-24-a0ce3008e1de>\u001b[0m in \u001b[0;36m<module>\u001b[0;34m()\u001b[0m\n\u001b[0;32m----> 1\u001b[0;31m \u001b[0msift\u001b[0m \u001b[0;34m=\u001b[0m \u001b[0mcv2\u001b[0m\u001b[0;34m.\u001b[0m\u001b[0mSIFT\u001b[0m\u001b[0;34m(\u001b[0m\u001b[0;34m)\u001b[0m\u001b[0;34m\u001b[0m\u001b[0m\n\u001b[0m",
      "\u001b[0;31mAttributeError\u001b[0m: 'module' object has no attribute 'SIFT'"
     ]
    }
   ],
   "source": [
    "sift = cv2.SIFT()"
   ]
  },
  {
   "cell_type": "code",
   "execution_count": 22,
   "metadata": {},
   "outputs": [
    {
     "name": "stdout",
     "output_type": "stream",
     "text": [
      "(40, 32)\n",
      "(50, 32)\n",
      "(50, 32)\n",
      "(47, 32)\n",
      "(52, 32)\n",
      "(50, 32)\n",
      "(21, 32)\n",
      "(41, 32)\n",
      "(50, 32)\n",
      "(28, 32)\n"
     ]
    }
   ],
   "source": [
    "# Initiate STAR detector\n",
    "orb = cv2.ORB(50)\n",
    "# brisk = cv2.BRISK()\n",
    "\n",
    "images = glob.glob(\"./original1/*.png\") # Is this correct folder .?\n",
    "\n",
    "# find the keypoints with ORB\n",
    "for image in images[:10]:\n",
    "    img = cv2.imread(image,0)\n",
    "    kp = orb.detect(img)\n",
    "#     bs = brisk.detect(img, None)\n",
    "\n",
    "    # compute the descriptors with ORB\n",
    "    kp, des = orb.compute(img, kp)\n",
    "    \n",
    "\n",
    "    print (des.shape)\n"
   ]
  },
  {
   "cell_type": "code",
   "execution_count": null,
   "metadata": {
    "collapsed": true
   },
   "outputs": [],
   "source": []
  }
 ],
 "metadata": {
  "kernelspec": {
   "display_name": "Python 2",
   "language": "python",
   "name": "python2"
  },
  "language_info": {
   "codemirror_mode": {
    "name": "ipython",
    "version": 2
   },
   "file_extension": ".py",
   "mimetype": "text/x-python",
   "name": "python",
   "nbconvert_exporter": "python",
   "pygments_lexer": "ipython2",
   "version": "2.7.12"
  }
 },
 "nbformat": 4,
 "nbformat_minor": 2
}
